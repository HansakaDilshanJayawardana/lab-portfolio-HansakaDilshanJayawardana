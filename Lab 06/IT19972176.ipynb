{
  "cells": [
    {
      "cell_type": "code",
      "execution_count": 1,
      "metadata": {
        "collapsed": true,
        "id": "LMsarlMCauX9"
      },
      "outputs": [],
      "source": [
        "# Read data into Python\n",
        "import pandas as pd\n",
        "\n",
        "reviews_dataset = pd.read_csv('Dataset.txt', names=['sentence', 'label'], sep=\"\\t\")"
      ]
    },
    {
      "cell_type": "code",
      "execution_count": 2,
      "outputs": [
        {
          "output_type": "execute_result",
          "data": {
            "text/plain": [
              "<748x3324 sparse matrix of type '<class 'numpy.int64'>'\n",
              "\twith 11567 stored elements in Compressed Sparse Row format>"
            ]
          },
          "metadata": {},
          "execution_count": 2
        }
      ],
      "source": [
        "# Vectorization\n",
        "from sklearn.feature_extraction.text import CountVectorizer\n",
        "\n",
        "sentences = reviews_dataset['sentence']\n",
        "vectorizer = CountVectorizer(min_df=0, lowercase=False)\n",
        "vectorizer.fit(sentences)\n",
        "vectorizer.transform(sentences)"
      ],
      "metadata": {
        "pycharm": {
          "name": "#%%\n"
        },
        "colab": {
          "base_uri": "https://localhost:8080/"
        },
        "id": "ieY3WyU0auYF",
        "outputId": "11239365-f180-4152-fc22-9a275bfb7ef8"
      }
    },
    {
      "cell_type": "code",
      "execution_count": 3,
      "outputs": [],
      "source": [
        "# Defining a baseline model\n",
        "sentences = reviews_dataset['sentence'].values\n",
        "y = reviews_dataset['label'].values\n"
      ],
      "metadata": {
        "pycharm": {
          "name": "#%%\n"
        },
        "id": "8vX9yIYGauYH"
      }
    },
    {
      "cell_type": "code",
      "execution_count": 4,
      "outputs": [],
      "source": [
        "# Split\n",
        "from sklearn.model_selection import train_test_split\n",
        "\n",
        "X_train, X_test, y_train, y_test = train_test_split(sentences, y, train_size=0.75)"
      ],
      "metadata": {
        "pycharm": {
          "name": "#%%\n"
        },
        "id": "qC31X_qbauYJ"
      }
    },
    {
      "cell_type": "code",
      "execution_count": 5,
      "outputs": [
        {
          "output_type": "execute_result",
          "data": {
            "text/plain": [
              "CountVectorizer()"
            ]
          },
          "metadata": {},
          "execution_count": 5
        }
      ],
      "source": [
        "vectorizer = CountVectorizer()\n",
        "vectorizer.fit(X_train)\n"
      ],
      "metadata": {
        "pycharm": {
          "name": "#%%\n"
        },
        "colab": {
          "base_uri": "https://localhost:8080/"
        },
        "id": "g7bQaR11auYK",
        "outputId": "b1c966f8-5636-40b5-e329-ca0a10971be4"
      }
    },
    {
      "cell_type": "code",
      "execution_count": 6,
      "outputs": [],
      "source": [
        "# Pre-processing\n",
        "import re\n",
        "\n",
        "REPLACE_NO_SPACE = re.compile(\"[.;:!\\'?,\\\"()\\[\\]]\")\n",
        "REPLACE_WITH_SPACE = re.compile(\"(<br\\s*?><br\\s*/>)|(\\-)|(\\/)\")\n",
        "\n",
        "\n",
        "def preprocessing_reviews(reviews):\n",
        "    reviews = [REPLACE_NO_SPACE.sub(\"\", line.lower()) for line in reviews]\n",
        "    reviews = [REPLACE_WITH_SPACE.sub(\" \", line) for line in reviews]\n",
        "\n",
        "    return reviews\n",
        "\n",
        "\n",
        "sentences_train = preprocessing_reviews(X_train)\n",
        "sentences_test = preprocessing_reviews(X_test)"
      ],
      "metadata": {
        "pycharm": {
          "name": "#%%\n"
        },
        "id": "SD_2HN3NauYM"
      }
    },
    {
      "cell_type": "code",
      "execution_count": 7,
      "outputs": [],
      "source": [
        "X_train = vectorizer.transform(sentences_train)\n",
        "X_test = vectorizer.transform(sentences_test)"
      ],
      "metadata": {
        "pycharm": {
          "name": "#%%\n"
        },
        "id": "5cBzixQIauYO"
      }
    },
    {
      "cell_type": "code",
      "execution_count": 8,
      "outputs": [
        {
          "output_type": "stream",
          "name": "stdout",
          "text": [
            "Accuracy for C=0.01: 0.6577540106951871\n",
            "Accuracy for C=0.05: 0.7272727272727273\n",
            "Accuracy for C=0.25: 0.7540106951871658\n",
            "Accuracy for C=0.5: 0.7593582887700535\n",
            "Accuracy for C=1: 0.7754010695187166\n",
            "Accuracy for C=2: 0.7647058823529411\n",
            "Accuracy for C=3: 0.7593582887700535\n",
            "Accuracy for C=5: 0.7647058823529411\n",
            "Accuracy for C=10: 0.7486631016042781\n"
          ]
        }
      ],
      "source": [
        "# The Classifier\n",
        "from sklearn.linear_model import LogisticRegression\n",
        "from sklearn.metrics import accuracy_score\n",
        "\n",
        "for c in [0.01, 0.05, 0.25, 0.5, 1, 2, 3, 5, 10]:\n",
        "    lr = LogisticRegression(C=c)\n",
        "    lr.fit(X_train, y_train)\n",
        "    print(\"Accuracy for C=%s: %s\" % (c, accuracy_score(y_test, lr.predict(X_test))))\n"
      ],
      "metadata": {
        "pycharm": {
          "name": "#%%\n"
        },
        "colab": {
          "base_uri": "https://localhost:8080/"
        },
        "id": "VhePM_RCauYQ",
        "outputId": "6469ced9-847b-429d-c542-7cd8fd71150d"
      }
    }
  ],
  "metadata": {
    "kernelspec": {
      "display_name": "Python 3",
      "language": "python",
      "name": "python3"
    },
    "language_info": {
      "codemirror_mode": {
        "name": "ipython",
        "version": 2
      },
      "file_extension": ".py",
      "mimetype": "text/x-python",
      "name": "python",
      "nbconvert_exporter": "python",
      "pygments_lexer": "ipython2",
      "version": "2.7.6"
    },
    "colab": {
      "provenance": []
    }
  },
  "nbformat": 4,
  "nbformat_minor": 0
}